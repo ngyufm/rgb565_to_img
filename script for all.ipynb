{
 "cells": [
  {
   "cell_type": "code",
   "execution_count": 1,
   "metadata": {},
   "outputs": [],
   "source": [
    "IMG_WIDTH = 240\n",
    "IMG_HEIGHT = 240\n",
    "RAW_PATHS = r\"./Images.txt/\"\n",
    "SAVE_PATH = r\"./Images\""
   ]
  },
  {
   "cell_type": "code",
   "execution_count": 2,
   "metadata": {},
   "outputs": [],
   "source": [
    "import matplotlib.pyplot as plt\n",
    "from PIL import Image\n",
    "import numpy as np\n",
    "import os "
   ]
  },
  {
   "cell_type": "code",
   "execution_count": 3,
   "metadata": {},
   "outputs": [],
   "source": [
    "paths = os.listdir( RAW_PATHS )"
   ]
  },
  {
   "cell_type": "code",
   "execution_count": 4,
   "metadata": {},
   "outputs": [],
   "source": [
    "imgs = {}\n",
    "for path in paths:\n",
    "    file = open(RAW_PATHS + path, \"rb\").read()\n",
    "    numbers = []\n",
    "    for i in range(IMG_HEIGHT*IMG_WIDTH):\n",
    "        numbers.append(file[i*2] << 8 | file[i*2+1])\n",
    "    img = np.empty((IMG_WIDTH, IMG_HEIGHT, 3), np.uint8)\n",
    "    for y in range(IMG_HEIGHT):\n",
    "        for x in range(IMG_WIDTH):\n",
    "            img[x][y][0] = (0xF800 & numbers[y*IMG_WIDTH+x]) >> 8      # r\n",
    "            img[x][y][1] = (0x07E0 & numbers[y*IMG_WIDTH+x]) >> 3      # g\n",
    "            img[x][y][2] = (0x001F & numbers[y*IMG_WIDTH+x]) << 3      # b\n",
    "    pilImg = Image.fromarray(img, \"RGB\")\n",
    "    pilImg.save(SAVE_PATH + r\"/\" + path.replace(\"TXT\", \"png\") , \"png\")\n",
    "    imgs[path.replace(\"TXT\", \"png\")] = img"
   ]
  },
  {
   "cell_type": "markdown",
   "metadata": {},
   "source": [
    "# Training the AI"
   ]
  },
  {
   "cell_type": "code",
   "execution_count": 5,
   "metadata": {},
   "outputs": [],
   "source": [
    "import tensorflow as tf\n",
    "import json \n",
    "import pandas as pd"
   ]
  },
  {
   "cell_type": "code",
   "execution_count": 6,
   "metadata": {},
   "outputs": [],
   "source": [
    "with open(r\"./Label.json\", \"r\") as file:\n",
    "    labels = json.load(file)\n",
    "relabels = []\n",
    "for label in labels:\n",
    "    for selection in labels[label]:\n",
    "        relabels.append(\n",
    "            [\n",
    "                label,\n",
    "                selection,\n",
    "                imgs[label],\n",
    "            ]\n",
    "        )\n",
    "label_df = pd.DataFrame(relabels)"
   ]
  },
  {
   "cell_type": "code",
   "execution_count": 7,
   "metadata": {},
   "outputs": [
    {
     "ename": "SyntaxError",
     "evalue": "invalid syntax (4190673377.py, line 1)",
     "output_type": "error",
     "traceback": [
      "\u001b[1;36m  Cell \u001b[1;32mIn[7], line 1\u001b[1;36m\u001b[0m\n\u001b[1;33m    tf.\u001b[0m\n\u001b[1;37m       ^\u001b[0m\n\u001b[1;31mSyntaxError\u001b[0m\u001b[1;31m:\u001b[0m invalid syntax\n"
     ]
    }
   ],
   "source": [
    "tf."
   ]
  }
 ],
 "metadata": {
  "kernelspec": {
   "display_name": "Python 3",
   "language": "python",
   "name": "python3"
  },
  "language_info": {
   "codemirror_mode": {
    "name": "ipython",
    "version": 3
   },
   "file_extension": ".py",
   "mimetype": "text/x-python",
   "name": "python",
   "nbconvert_exporter": "python",
   "pygments_lexer": "ipython3",
   "version": "3.12.5"
  }
 },
 "nbformat": 4,
 "nbformat_minor": 2
}
